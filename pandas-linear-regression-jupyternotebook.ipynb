{
 "cells": [
  {
   "cell_type": "markdown",
   "metadata": {},
   "source": [
    "# The `pandas-linear-regression` library\n",
    "\n",
    "This library uses the `pandas` to calculate the follow:\n",
    "\n",
    "1. The slope of the regression line\n",
    "2. The intercept of the regression line\n",
    "3. A prediction function"
   ]
  },
  {
   "cell_type": "code",
   "execution_count": 137,
   "metadata": {},
   "outputs": [
    {
     "data": {
      "text/html": [
       "<div>\n",
       "<style scoped>\n",
       "    .dataframe tbody tr th:only-of-type {\n",
       "        vertical-align: middle;\n",
       "    }\n",
       "\n",
       "    .dataframe tbody tr th {\n",
       "        vertical-align: top;\n",
       "    }\n",
       "\n",
       "    .dataframe thead th {\n",
       "        text-align: right;\n",
       "    }\n",
       "</style>\n",
       "<table border=\"1\" class=\"dataframe\">\n",
       "  <thead>\n",
       "    <tr style=\"text-align: right;\">\n",
       "      <th></th>\n",
       "      <th>Number of cars operating</th>\n",
       "      <th>Miles per week</th>\n",
       "      <th>Passengers per week</th>\n",
       "    </tr>\n",
       "  </thead>\n",
       "  <tbody>\n",
       "    <tr>\n",
       "      <td>0</td>\n",
       "      <td>72</td>\n",
       "      <td>2632</td>\n",
       "      <td>18764</td>\n",
       "    </tr>\n",
       "    <tr>\n",
       "      <td>1</td>\n",
       "      <td>48</td>\n",
       "      <td>1211</td>\n",
       "      <td>6688</td>\n",
       "    </tr>\n",
       "    <tr>\n",
       "      <td>2</td>\n",
       "      <td>77</td>\n",
       "      <td>2604</td>\n",
       "      <td>16504</td>\n",
       "    </tr>\n",
       "    <tr>\n",
       "      <td>3</td>\n",
       "      <td>91</td>\n",
       "      <td>4039</td>\n",
       "      <td>22944</td>\n",
       "    </tr>\n",
       "    <tr>\n",
       "      <td>4</td>\n",
       "      <td>94</td>\n",
       "      <td>5047</td>\n",
       "      <td>25063</td>\n",
       "    </tr>\n",
       "  </tbody>\n",
       "</table>\n",
       "</div>"
      ],
      "text/plain": [
       "   Number of cars operating  Miles per week  Passengers per week\n",
       "0                        72            2632                18764\n",
       "1                        48            1211                 6688\n",
       "2                        77            2604                16504\n",
       "3                        91            4039                22944\n",
       "4                        94            5047                25063"
      ]
     },
     "execution_count": 137,
     "metadata": {},
     "output_type": "execute_result"
    }
   ],
   "source": [
    "import pandas as pd\n",
    "df_train = pd.read_csv(\"https://raw.githubusercontent.com/ThomasJewson/datasets/master/ElectricTrainUsage1888/electrictrain.csv\")\n",
    "df_train.head()"
   ]
  },
  {
   "cell_type": "code",
   "execution_count": 32,
   "metadata": {},
   "outputs": [
    {
     "data": {
      "text/html": [
       "<div>\n",
       "<style scoped>\n",
       "    .dataframe tbody tr th:only-of-type {\n",
       "        vertical-align: middle;\n",
       "    }\n",
       "\n",
       "    .dataframe tbody tr th {\n",
       "        vertical-align: top;\n",
       "    }\n",
       "\n",
       "    .dataframe thead th {\n",
       "        text-align: right;\n",
       "    }\n",
       "</style>\n",
       "<table border=\"1\" class=\"dataframe\">\n",
       "  <thead>\n",
       "    <tr style=\"text-align: right;\">\n",
       "      <th></th>\n",
       "      <th>Number of cars operating</th>\n",
       "      <th>Miles per week</th>\n",
       "      <th>Passengers per week</th>\n",
       "    </tr>\n",
       "  </thead>\n",
       "  <tbody>\n",
       "    <tr>\n",
       "      <td>Number of cars operating</td>\n",
       "      <td>1.000000</td>\n",
       "      <td>0.957434</td>\n",
       "      <td>0.959063</td>\n",
       "    </tr>\n",
       "    <tr>\n",
       "      <td>Miles per week</td>\n",
       "      <td>0.957434</td>\n",
       "      <td>1.000000</td>\n",
       "      <td>0.941850</td>\n",
       "    </tr>\n",
       "    <tr>\n",
       "      <td>Passengers per week</td>\n",
       "      <td>0.959063</td>\n",
       "      <td>0.941850</td>\n",
       "      <td>1.000000</td>\n",
       "    </tr>\n",
       "  </tbody>\n",
       "</table>\n",
       "</div>"
      ],
      "text/plain": [
       "                          Number of cars operating  Miles per week  \\\n",
       "Number of cars operating                  1.000000        0.957434   \n",
       "Miles per week                            0.957434        1.000000   \n",
       "Passengers per week                       0.959063        0.941850   \n",
       "\n",
       "                          Passengers per week  \n",
       "Number of cars operating             0.959063  \n",
       "Miles per week                       0.941850  \n",
       "Passengers per week                  1.000000  "
      ]
     },
     "execution_count": 32,
     "metadata": {},
     "output_type": "execute_result"
    }
   ],
   "source": [
    "df_train.corr()"
   ]
  },
  {
   "cell_type": "markdown",
   "metadata": {},
   "source": [
    "#### The slope of the regression line:\n",
    "\n",
    "${\\large Slope=m=r*\\frac{\\text{Standard Deviation of Y}}{\\text{Standard Deviation of X}}=\\frac{r \\sigma_{y}}{\\sigma_{x}}}$"
   ]
  },
  {
   "cell_type": "code",
   "execution_count": 90,
   "metadata": {},
   "outputs": [],
   "source": [
    "def slope_single(df,x,y):\n",
    "    return df.corr().loc[x,y] * df[y].std() / df[x].std()"
   ]
  },
  {
   "cell_type": "code",
   "execution_count": 92,
   "metadata": {},
   "outputs": [
    {
     "data": {
      "text/plain": [
       "89.96210129797845"
      ]
     },
     "execution_count": 92,
     "metadata": {},
     "output_type": "execute_result"
    }
   ],
   "source": [
    "slope_single(df_train,\"Number of cars operating\",\"Miles per week\")"
   ]
  },
  {
   "cell_type": "code",
   "execution_count": 95,
   "metadata": {},
   "outputs": [],
   "source": [
    "def slope_x(df,x):\n",
    "    out_df = pd.DataFrame(columns=[x])\n",
    "    for z in range(len(df.corr())):\n",
    "        part_df = pd.DataFrame(\n",
    "            data = [slope_single(df,x,df.corr().columns[z])],\n",
    "            columns = [x],\n",
    "            index = [df.corr().columns[z]]   \n",
    "        )\n",
    "        out_df = out_df.append(part_df)\n",
    "    return out_df"
   ]
  },
  {
   "cell_type": "code",
   "execution_count": 96,
   "metadata": {},
   "outputs": [
    {
     "data": {
      "text/html": [
       "<div>\n",
       "<style scoped>\n",
       "    .dataframe tbody tr th:only-of-type {\n",
       "        vertical-align: middle;\n",
       "    }\n",
       "\n",
       "    .dataframe tbody tr th {\n",
       "        vertical-align: top;\n",
       "    }\n",
       "\n",
       "    .dataframe thead th {\n",
       "        text-align: right;\n",
       "    }\n",
       "</style>\n",
       "<table border=\"1\" class=\"dataframe\">\n",
       "  <thead>\n",
       "    <tr style=\"text-align: right;\">\n",
       "      <th></th>\n",
       "      <th>Number of cars operating</th>\n",
       "    </tr>\n",
       "  </thead>\n",
       "  <tbody>\n",
       "    <tr>\n",
       "      <td>Number of cars operating</td>\n",
       "      <td>1.000000</td>\n",
       "    </tr>\n",
       "    <tr>\n",
       "      <td>Miles per week</td>\n",
       "      <td>89.962101</td>\n",
       "    </tr>\n",
       "    <tr>\n",
       "      <td>Passengers per week</td>\n",
       "      <td>375.676968</td>\n",
       "    </tr>\n",
       "  </tbody>\n",
       "</table>\n",
       "</div>"
      ],
      "text/plain": [
       "                          Number of cars operating\n",
       "Number of cars operating                  1.000000\n",
       "Miles per week                           89.962101\n",
       "Passengers per week                     375.676968"
      ]
     },
     "execution_count": 96,
     "metadata": {},
     "output_type": "execute_result"
    }
   ],
   "source": [
    "slope_x(df_train,\"Number of cars operating\")"
   ]
  },
  {
   "cell_type": "code",
   "execution_count": 141,
   "metadata": {},
   "outputs": [],
   "source": [
    "def slope(df):\n",
    "    \"\"\"\n",
    "    Outputs the regression line slope\n",
    "    \n",
    "    \n",
    "    The x-axis of the returned DataFrame is the x-axis of the line. \n",
    "    The y-axis of the returned DataFrame is the y-axis of the line. \n",
    "    \"\"\"\n",
    "    out_df = slope_x(df,df.corr().columns[0])\n",
    "    for z in range(1,len(df.corr())):\n",
    "        out_df = out_df.join(slope_x(df,df.corr().columns[z]))\n",
    "    return out_df"
   ]
  },
  {
   "cell_type": "code",
   "execution_count": 142,
   "metadata": {},
   "outputs": [
    {
     "data": {
      "text/html": [
       "<div>\n",
       "<style scoped>\n",
       "    .dataframe tbody tr th:only-of-type {\n",
       "        vertical-align: middle;\n",
       "    }\n",
       "\n",
       "    .dataframe tbody tr th {\n",
       "        vertical-align: top;\n",
       "    }\n",
       "\n",
       "    .dataframe thead th {\n",
       "        text-align: right;\n",
       "    }\n",
       "</style>\n",
       "<table border=\"1\" class=\"dataframe\">\n",
       "  <thead>\n",
       "    <tr style=\"text-align: right;\">\n",
       "      <th></th>\n",
       "      <th>Number of cars operating</th>\n",
       "      <th>Miles per week</th>\n",
       "      <th>Passengers per week</th>\n",
       "    </tr>\n",
       "  </thead>\n",
       "  <tbody>\n",
       "    <tr>\n",
       "      <td>Number of cars operating</td>\n",
       "      <td>1.000000</td>\n",
       "      <td>0.010190</td>\n",
       "      <td>0.002448</td>\n",
       "    </tr>\n",
       "    <tr>\n",
       "      <td>Miles per week</td>\n",
       "      <td>89.962101</td>\n",
       "      <td>1.000000</td>\n",
       "      <td>0.225925</td>\n",
       "    </tr>\n",
       "    <tr>\n",
       "      <td>Passengers per week</td>\n",
       "      <td>375.676968</td>\n",
       "      <td>3.926438</td>\n",
       "      <td>1.000000</td>\n",
       "    </tr>\n",
       "  </tbody>\n",
       "</table>\n",
       "</div>"
      ],
      "text/plain": [
       "                          Number of cars operating  Miles per week  \\\n",
       "Number of cars operating                  1.000000        0.010190   \n",
       "Miles per week                           89.962101        1.000000   \n",
       "Passengers per week                     375.676968        3.926438   \n",
       "\n",
       "                          Passengers per week  \n",
       "Number of cars operating             0.002448  \n",
       "Miles per week                       0.225925  \n",
       "Passengers per week                  1.000000  "
      ]
     },
     "execution_count": 142,
     "metadata": {},
     "output_type": "execute_result"
    }
   ],
   "source": [
    "slope(df_train)"
   ]
  },
  {
   "cell_type": "markdown",
   "metadata": {},
   "source": [
    "#### The intercept of the regression line:\n",
    "\n",
    "${\\large Intercept=\\text{Mean of Y}-slope*\\text{Mean of X}=\\mu_{y}-m\\mu_{x}}$"
   ]
  },
  {
   "cell_type": "code",
   "execution_count": 173,
   "metadata": {},
   "outputs": [],
   "source": [
    "def intercept_single(df,x,y):\n",
    "    return df[y].mean() - (slope_single(df,x,y)*df[x].mean())"
   ]
  },
  {
   "cell_type": "code",
   "execution_count": 144,
   "metadata": {},
   "outputs": [
    {
     "data": {
      "text/plain": [
       "-2740.794013023309"
      ]
     },
     "execution_count": 144,
     "metadata": {},
     "output_type": "execute_result"
    }
   ],
   "source": [
    "intercept_single(df_train,\"Number of cars operating\",\"Miles per week\")"
   ]
  },
  {
   "cell_type": "code",
   "execution_count": 175,
   "metadata": {},
   "outputs": [],
   "source": [
    "def intercept(df):\n",
    "    out_df = slope(df)\n",
    "    for x_ax in range(len(df.corr())):\n",
    "        for y_ax in range(len(df.corr())):\n",
    "            out_df.loc[df.corr().index[y_ax],df.corr().index[x_ax]] = intercept_single(df,df.corr().index[x_ax],df.corr().index[y_ax])\n",
    "    return out_df"
   ]
  },
  {
   "cell_type": "code",
   "execution_count": 181,
   "metadata": {},
   "outputs": [
    {
     "data": {
      "text/html": [
       "<div>\n",
       "<style scoped>\n",
       "    .dataframe tbody tr th:only-of-type {\n",
       "        vertical-align: middle;\n",
       "    }\n",
       "\n",
       "    .dataframe tbody tr th {\n",
       "        vertical-align: top;\n",
       "    }\n",
       "\n",
       "    .dataframe thead th {\n",
       "        text-align: right;\n",
       "    }\n",
       "</style>\n",
       "<table border=\"1\" class=\"dataframe\">\n",
       "  <thead>\n",
       "    <tr style=\"text-align: right;\">\n",
       "      <th></th>\n",
       "      <th>Number of cars operating</th>\n",
       "      <th>Miles per week</th>\n",
       "      <th>Passengers per week</th>\n",
       "    </tr>\n",
       "  </thead>\n",
       "  <tbody>\n",
       "    <tr>\n",
       "      <td>Number of cars operating</td>\n",
       "      <td>0.000000</td>\n",
       "      <td>38.713361</td>\n",
       "      <td>36.074952</td>\n",
       "    </tr>\n",
       "    <tr>\n",
       "      <td>Miles per week</td>\n",
       "      <td>-2740.794013</td>\n",
       "      <td>0.000000</td>\n",
       "      <td>288.592927</td>\n",
       "    </tr>\n",
       "    <tr>\n",
       "      <td>Passengers per week</td>\n",
       "      <td>-10493.983521</td>\n",
       "      <td>3173.251182</td>\n",
       "      <td>0.000000</td>\n",
       "    </tr>\n",
       "  </tbody>\n",
       "</table>\n",
       "</div>"
      ],
      "text/plain": [
       "                          Number of cars operating  Miles per week  \\\n",
       "Number of cars operating                  0.000000       38.713361   \n",
       "Miles per week                        -2740.794013        0.000000   \n",
       "Passengers per week                  -10493.983521     3173.251182   \n",
       "\n",
       "                          Passengers per week  \n",
       "Number of cars operating            36.074952  \n",
       "Miles per week                     288.592927  \n",
       "Passengers per week                  0.000000  "
      ]
     },
     "execution_count": 181,
     "metadata": {},
     "output_type": "execute_result"
    }
   ],
   "source": [
    "intercept(df_train)"
   ]
  },
  {
   "cell_type": "markdown",
   "metadata": {},
   "source": [
    "#### The prediction with the regression line:"
   ]
  },
  {
   "cell_type": "code",
   "execution_count": 196,
   "metadata": {},
   "outputs": [],
   "source": [
    "def predict(df,x,z):\n",
    "    \"\"\"\"\"\"\n",
    "    out_df = slope(df) * z + intercept(df)\n",
    "    return out_df[x]"
   ]
  },
  {
   "cell_type": "code",
   "execution_count": 201,
   "metadata": {},
   "outputs": [
    {
     "data": {
      "text/plain": [
       "Number of cars operating      100.000000\n",
       "Miles per week               6255.416117\n",
       "Passengers per week         27073.713289\n",
       "Name: Number of cars operating, dtype: float64"
      ]
     },
     "execution_count": 201,
     "metadata": {},
     "output_type": "execute_result"
    }
   ],
   "source": [
    "predict(df_train,\"Number of cars operating\",100)"
   ]
  }
 ],
 "metadata": {
  "kernelspec": {
   "display_name": "Python 3",
   "language": "python",
   "name": "python3"
  },
  "language_info": {
   "codemirror_mode": {
    "name": "ipython",
    "version": 3
   },
   "file_extension": ".py",
   "mimetype": "text/x-python",
   "name": "python",
   "nbconvert_exporter": "python",
   "pygments_lexer": "ipython3",
   "version": "3.7.4"
  }
 },
 "nbformat": 4,
 "nbformat_minor": 2
}
